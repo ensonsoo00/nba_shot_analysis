{
 "cells": [
  {
   "cell_type": "code",
   "execution_count": 1,
   "metadata": {},
   "outputs": [],
   "source": [
    "import pandas as pd\n",
    "import matplotlib.pyplot as plt"
   ]
  },
  {
   "cell_type": "code",
   "execution_count": 2,
   "metadata": {},
   "outputs": [
    {
     "data": {
      "text/html": [
       "<div>\n",
       "<style scoped>\n",
       "    .dataframe tbody tr th:only-of-type {\n",
       "        vertical-align: middle;\n",
       "    }\n",
       "\n",
       "    .dataframe tbody tr th {\n",
       "        vertical-align: top;\n",
       "    }\n",
       "\n",
       "    .dataframe thead th {\n",
       "        text-align: right;\n",
       "    }\n",
       "</style>\n",
       "<table border=\"1\" class=\"dataframe\">\n",
       "  <thead>\n",
       "    <tr style=\"text-align: right;\">\n",
       "      <th></th>\n",
       "      <th>game_id</th>\n",
       "      <th>year</th>\n",
       "      <th>month</th>\n",
       "      <th>day</th>\n",
       "      <th>winner</th>\n",
       "      <th>loser</th>\n",
       "      <th>y</th>\n",
       "      <th>x</th>\n",
       "      <th>play</th>\n",
       "      <th>time_remaining</th>\n",
       "      <th>...</th>\n",
       "      <th>distance</th>\n",
       "      <th>team</th>\n",
       "      <th>winner_score</th>\n",
       "      <th>loser_score</th>\n",
       "      <th>overtime</th>\n",
       "      <th>team_score</th>\n",
       "      <th>opp_score</th>\n",
       "      <th>time_remaining_game</th>\n",
       "      <th>x_adj</th>\n",
       "      <th>y_adj</th>\n",
       "    </tr>\n",
       "  </thead>\n",
       "  <tbody>\n",
       "    <tr>\n",
       "      <th>0</th>\n",
       "      <td>201910220TOR</td>\n",
       "      <td>2019</td>\n",
       "      <td>10</td>\n",
       "      <td>22</td>\n",
       "      <td>Toronto</td>\n",
       "      <td>New Orleans</td>\n",
       "      <td>147</td>\n",
       "      <td>242</td>\n",
       "      <td>1st quarter, 11:48.0 remaining&lt;br&gt;Lonzo Ball m...</td>\n",
       "      <td>11:48.0</td>\n",
       "      <td>...</td>\n",
       "      <td>11</td>\n",
       "      <td>New Orleans</td>\n",
       "      <td>0</td>\n",
       "      <td>0</td>\n",
       "      <td>0</td>\n",
       "      <td>0</td>\n",
       "      <td>0</td>\n",
       "      <td>2868.0</td>\n",
       "      <td>251.929847</td>\n",
       "      <td>163.416223</td>\n",
       "    </tr>\n",
       "    <tr>\n",
       "      <th>1</th>\n",
       "      <td>201910220TOR</td>\n",
       "      <td>2019</td>\n",
       "      <td>10</td>\n",
       "      <td>22</td>\n",
       "      <td>Toronto</td>\n",
       "      <td>New Orleans</td>\n",
       "      <td>27</td>\n",
       "      <td>240</td>\n",
       "      <td>1st quarter, 11:47.0 remaining&lt;br&gt;Derrick Favo...</td>\n",
       "      <td>11:47.0</td>\n",
       "      <td>...</td>\n",
       "      <td>1</td>\n",
       "      <td>New Orleans</td>\n",
       "      <td>0</td>\n",
       "      <td>2</td>\n",
       "      <td>0</td>\n",
       "      <td>0</td>\n",
       "      <td>0</td>\n",
       "      <td>2867.0</td>\n",
       "      <td>249.929847</td>\n",
       "      <td>43.416223</td>\n",
       "    </tr>\n",
       "    <tr>\n",
       "      <th>2</th>\n",
       "      <td>201910220TOR</td>\n",
       "      <td>2019</td>\n",
       "      <td>10</td>\n",
       "      <td>22</td>\n",
       "      <td>Toronto</td>\n",
       "      <td>New Orleans</td>\n",
       "      <td>60</td>\n",
       "      <td>256</td>\n",
       "      <td>1st quarter, 11:29.0 remaining&lt;br&gt;OG Anunoby m...</td>\n",
       "      <td>11:29.0</td>\n",
       "      <td>...</td>\n",
       "      <td>3</td>\n",
       "      <td>Toronto</td>\n",
       "      <td>0</td>\n",
       "      <td>2</td>\n",
       "      <td>0</td>\n",
       "      <td>0</td>\n",
       "      <td>2</td>\n",
       "      <td>2849.0</td>\n",
       "      <td>265.929847</td>\n",
       "      <td>76.416223</td>\n",
       "    </tr>\n",
       "    <tr>\n",
       "      <th>3</th>\n",
       "      <td>201910220TOR</td>\n",
       "      <td>2019</td>\n",
       "      <td>10</td>\n",
       "      <td>22</td>\n",
       "      <td>Toronto</td>\n",
       "      <td>New Orleans</td>\n",
       "      <td>32</td>\n",
       "      <td>320</td>\n",
       "      <td>1st quarter, 11:16.0 remaining&lt;br&gt;Jrue Holiday...</td>\n",
       "      <td>11:16.0</td>\n",
       "      <td>...</td>\n",
       "      <td>8</td>\n",
       "      <td>New Orleans</td>\n",
       "      <td>0</td>\n",
       "      <td>2</td>\n",
       "      <td>0</td>\n",
       "      <td>2</td>\n",
       "      <td>0</td>\n",
       "      <td>2836.0</td>\n",
       "      <td>329.929847</td>\n",
       "      <td>48.416223</td>\n",
       "    </tr>\n",
       "    <tr>\n",
       "      <th>4</th>\n",
       "      <td>201910220TOR</td>\n",
       "      <td>2019</td>\n",
       "      <td>10</td>\n",
       "      <td>22</td>\n",
       "      <td>Toronto</td>\n",
       "      <td>New Orleans</td>\n",
       "      <td>208</td>\n",
       "      <td>418</td>\n",
       "      <td>1st quarter, 11:11.0 remaining&lt;br&gt;Kyle Lowry m...</td>\n",
       "      <td>11:11.0</td>\n",
       "      <td>...</td>\n",
       "      <td>25</td>\n",
       "      <td>Toronto</td>\n",
       "      <td>0</td>\n",
       "      <td>2</td>\n",
       "      <td>0</td>\n",
       "      <td>0</td>\n",
       "      <td>2</td>\n",
       "      <td>2831.0</td>\n",
       "      <td>427.929847</td>\n",
       "      <td>224.416223</td>\n",
       "    </tr>\n",
       "  </tbody>\n",
       "</table>\n",
       "<p>5 rows × 24 columns</p>\n",
       "</div>"
      ],
      "text/plain": [
       "        game_id  year  month  day   winner        loser    y    x  \\\n",
       "0  201910220TOR  2019     10   22  Toronto  New Orleans  147  242   \n",
       "1  201910220TOR  2019     10   22  Toronto  New Orleans   27  240   \n",
       "2  201910220TOR  2019     10   22  Toronto  New Orleans   60  256   \n",
       "3  201910220TOR  2019     10   22  Toronto  New Orleans   32  320   \n",
       "4  201910220TOR  2019     10   22  Toronto  New Orleans  208  418   \n",
       "\n",
       "                                                play time_remaining  ...  \\\n",
       "0  1st quarter, 11:48.0 remaining<br>Lonzo Ball m...        11:48.0  ...   \n",
       "1  1st quarter, 11:47.0 remaining<br>Derrick Favo...        11:47.0  ...   \n",
       "2  1st quarter, 11:29.0 remaining<br>OG Anunoby m...        11:29.0  ...   \n",
       "3  1st quarter, 11:16.0 remaining<br>Jrue Holiday...        11:16.0  ...   \n",
       "4  1st quarter, 11:11.0 remaining<br>Kyle Lowry m...        11:11.0  ...   \n",
       "\n",
       "   distance         team winner_score loser_score  overtime team_score  \\\n",
       "0        11  New Orleans            0           0         0          0   \n",
       "1         1  New Orleans            0           2         0          0   \n",
       "2         3      Toronto            0           2         0          0   \n",
       "3         8  New Orleans            0           2         0          2   \n",
       "4        25      Toronto            0           2         0          0   \n",
       "\n",
       "   opp_score  time_remaining_game       x_adj       y_adj  \n",
       "0          0               2868.0  251.929847  163.416223  \n",
       "1          0               2867.0  249.929847   43.416223  \n",
       "2          2               2849.0  265.929847   76.416223  \n",
       "3          0               2836.0  329.929847   48.416223  \n",
       "4          2               2831.0  427.929847  224.416223  \n",
       "\n",
       "[5 rows x 24 columns]"
      ]
     },
     "execution_count": 2,
     "metadata": {},
     "output_type": "execute_result"
    }
   ],
   "source": [
    "df = pd.read_csv(\"../data/shots-2019-preprocessed.csv\", index_col=0)\n",
    "df.head()"
   ]
  },
  {
   "cell_type": "code",
   "execution_count": 3,
   "metadata": {},
   "outputs": [
    {
     "data": {
      "image/png": "[encoded data removed]",
      "text/plain": [
       "<Figure size 432x288 with 1 Axes>"
      ]
     },
     "metadata": {
      "needs_background": "light"
     },
     "output_type": "display_data"
    }
   ],
   "source": [
    "df_3point = df[(df[\"attempt\"]==\"3-pointer\") & (~df[\"overtime\"])]\n",
    "plt.hist(df_3point[df_3point[\"quarter\"]==1][\"time_remaining_game\"], density=True, bins=15, label=\"Quarter 1\")\n",
    "plt.hist(df_3point[df_3point[\"quarter\"]==2][\"time_remaining_game\"], density=True, bins=15, label=\"Quarter 2\")\n",
    "plt.hist(df_3point[df_3point[\"quarter\"]==3][\"time_remaining_game\"], density=True, bins=15, label=\"Quarter 3\")\n",
    "plt.hist(df_3point[df_3point[\"quarter\"]==4][\"time_remaining_game\"], density=True, bins=15, label=\"Quarter 4\")\n",
    "plt.legend(loc=\"upper right\", fontsize=8)\n",
    "plt.xlabel(\"Time left in game (in seconds)\")\n",
    "plt.ylabel(\"Density\")\n",
    "plt.title(\"Distribution of 3-pointers taken based on time left\")\n",
    "plt.show()"
   ]
  },
  {
   "cell_type": "code",
   "execution_count": 22,
   "metadata": {},
   "outputs": [
    {
     "data": {
      "image/png": "[encoded data removed]",
      "text/plain": [
       "<Figure size 432x288 with 1 Axes>"
      ]
     },
     "metadata": {
      "needs_background": "light"
     },
     "output_type": "display_data"
    }
   ],
   "source": [
    "df_3point = df[(df[\"attempt\"]==\"3-pointer\") & (df[\"overtime\"])]\n",
    "plt.hist(df_3point[\"time_remaining_game\"], density=True, bins=30)\n",
    "plt.xlabel(\"Time left in game (in seconds)\")\n",
    "plt.ylabel(\"Density\")\n",
    "plt.title(\"Distribution of 3-pointers taken based on time left (overtime)\")\n",
    "plt.show()"
   ]
  },
  {
   "cell_type": "code",
   "execution_count": 19,
   "metadata": {},
   "outputs": [
    {
     "data": {
      "image/png": "[encoded data removed]",
      "text/plain": [
       "<Figure size 432x288 with 1 Axes>"
      ]
     },
     "metadata": {
      "needs_background": "light"
     },
     "output_type": "display_data"
    }
   ],
   "source": [
    "df_2point = df[(df[\"attempt\"]==\"2-pointer\") & (~df[\"overtime\"])]\n",
    "plt.hist(df_2point[df_2point[\"quarter\"]==1][\"time_remaining_game\"], density=True, bins=15, label=\"Quarter 1\")\n",
    "plt.hist(df_2point[df_2point[\"quarter\"]==2][\"time_remaining_game\"], density=True, bins=15, label=\"Quarter 2\")\n",
    "plt.hist(df_2point[df_2point[\"quarter\"]==3][\"time_remaining_game\"], density=True, bins=15, label=\"Quarter 3\")\n",
    "plt.hist(df_2point[df_2point[\"quarter\"]==4][\"time_remaining_game\"], density=True, bins=15, label=\"Quarter 4\")\n",
    "plt.legend(loc=\"upper right\", fontsize=8)\n",
    "plt.xlabel(\"Time left in game (in seconds)\")\n",
    "plt.ylabel(\"Density\")\n",
    "plt.title(\"Distribution of 2-pointers taken based on time left\")\n",
    "plt.show()"
   ]
  },
  {
   "cell_type": "code",
   "execution_count": 21,
   "metadata": {},
   "outputs": [
    {
     "data": {
      "image/png": "[encoded data removed]",
      "text/plain": [
       "<Figure size 432x288 with 1 Axes>"
      ]
     },
     "metadata": {
      "needs_background": "light"
     },
     "output_type": "display_data"
    }
   ],
   "source": [
    "df_2point = df[(df[\"attempt\"]==\"2-pointer\") & (df[\"overtime\"])]\n",
    "plt.hist(df_2point[\"time_remaining_game\"], density=True, bins=30)\n",
    "plt.xlabel(\"Time left in game (in seconds)\")\n",
    "plt.ylabel(\"Density\")\n",
    "plt.title(\"Distribution of 2-pointers taken based on time left (overtime)\")\n",
    "plt.show()"
   ]
  },
  {
   "cell_type": "code",
   "execution_count": null,
   "metadata": {},
   "outputs": [],
   "source": []
  }
 ],
 "metadata": {
  "kernelspec": {
   "display_name": "base",
   "language": "python",
   "name": "python3"
  },
  "language_info": {
   "codemirror_mode": {
    "name": "ipython",
    "version": 3
   },
   "file_extension": ".py",
   "mimetype": "text/x-python",
   "name": "python",
   "nbconvert_exporter": "python",
   "pygments_lexer": "ipython3",
   "version": "3.8.8"
  }
 },
 "nbformat": 4,
 "nbformat_minor": 2
}
